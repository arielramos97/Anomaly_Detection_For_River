{
 "cells": [
  {
   "attachments": {},
   "cell_type": "markdown",
   "metadata": {},
   "source": [
    "# rs_hash for row-streaming datasets"
   ]
  },
  {
   "cell_type": "code",
   "execution_count": null,
   "metadata": {},
   "outputs": [],
   "source": [
    "# !git clone https://github.com/mayaawada/Test.git\n",
    "# %cd Test/Row-streaming\n",
    "\n",
    "#Or just download the files containing the data from https://github.com/mayaawada/Test.git"
   ]
  },
  {
   "attachments": {},
   "cell_type": "markdown",
   "metadata": {},
   "source": [
    "### Import required libraries"
   ]
  },
  {
   "cell_type": "code",
   "execution_count": 1,
   "metadata": {},
   "outputs": [],
   "source": [
    "from sklearn.datasets import load_svmlight_file\n",
    "from rs_hash import RSHash\n",
    "import tqdm\n",
    "from sklearn.metrics import average_precision_score, roc_auc_score\n",
    "import time\n",
    "import math\n"
   ]
  },
  {
   "attachments": {},
   "cell_type": "markdown",
   "metadata": {},
   "source": [
    "### Data loading"
   ]
  },
  {
   "cell_type": "code",
   "execution_count": 28,
   "metadata": {},
   "outputs": [],
   "source": [
    "data = load_svmlight_file(\"data/Row-streaming/spam-sms\")\n",
    "X = data[0]\n",
    "y = data[1]\n",
    "X= X.todense()"
   ]
  },
  {
   "attachments": {},
   "cell_type": "markdown",
   "metadata": {},
   "source": [
    "### Run the algorithm"
   ]
  },
  {
   "cell_type": "code",
   "execution_count": 32,
   "metadata": {},
   "outputs": [
    {
     "name": "stderr",
     "output_type": "stream",
     "text": [
      "100%|██████████| 5574/5574 [00:16<00:00, 346.61it/s]"
     ]
    },
    {
     "name": "stdout",
     "output_type": "stream",
     "text": [
      "--- 16.219448804855347 seconds ---\n"
     ]
    },
    {
     "name": "stderr",
     "output_type": "stream",
     "text": [
      "\n"
     ]
    }
   ],
   "source": [
    "window_size = int(0.01*len(y))\n",
    "k = 100\n",
    "n_chains = 100\n",
    "depth = 15\n",
    "\n",
    "all_scores = []\n",
    "\n",
    "start_time = time.time()\n",
    "\n",
    "\n",
    "cf = RSHash(X.min(axis=0).A1, X.max(axis=0).A1) \n",
    "\n",
    "for i, sample in enumerate(tqdm.tqdm(X)):\n",
    "  cf.learn_one(sample.A1)\n",
    "  if i>=window_size:\n",
    "    anomalyscore = -cf.score_one(sample.A1)\n",
    "    all_scores.append(anomalyscore)\n",
    "\n",
    "print(\"--- %s seconds ---\" % (time.time() - start_time))"
   ]
  },
  {
   "attachments": {},
   "cell_type": "markdown",
   "metadata": {},
   "source": [
    "### Compute mean average precision and ROC metric"
   ]
  },
  {
   "cell_type": "code",
   "execution_count": 33,
   "metadata": {},
   "outputs": [],
   "source": [
    "y_adjusted = y[window_size:window_size+len(all_scores)]\n",
    "\n",
    "chunks = [all_scores[x:x+window_size] for x in range(0, len(all_scores), window_size)]\n",
    "y_chunks = [y_adjusted[x:x+window_size] for x in range(0, len(y_adjusted), window_size)]\n",
    "\n",
    "AP_window = []\n",
    "\n",
    "for i in range(len(y_chunks)-1):\n",
    "  score = average_precision_score(y_chunks[i], chunks[i])\n",
    "  AP_window.append(score)"
   ]
  },
  {
   "attachments": {},
   "cell_type": "markdown",
   "metadata": {},
   "source": [
    "### Results"
   ]
  },
  {
   "cell_type": "code",
   "execution_count": 34,
   "metadata": {},
   "outputs": [
    {
     "name": "stdout",
     "output_type": "stream",
     "text": [
      "XStream: OAP = 0.2144878385382346 \n",
      "\t MAP = 0.33296001711371126 \n",
      "\t AUC = 0.6444245470825114\n"
     ]
    }
   ],
   "source": [
    "OAP = average_precision_score(y_adjusted, all_scores) \n",
    "MAP = sum(AP_window)/len(AP_window)\n",
    "AUC = roc_auc_score(y_adjusted, all_scores)\n",
    "\n",
    "print(\"XStream: OAP =\", OAP,\"\\n\\t\",\n",
    "      \"MAP =\", MAP, \"\\n\\t\", \n",
    "      \"AUC =\", AUC)"
   ]
  }
 ],
 "metadata": {
  "kernelspec": {
   "display_name": "uni_env",
   "language": "python",
   "name": "python3"
  },
  "language_info": {
   "codemirror_mode": {
    "name": "ipython",
    "version": 3
   },
   "file_extension": ".py",
   "mimetype": "text/x-python",
   "name": "python",
   "nbconvert_exporter": "python",
   "pygments_lexer": "ipython3",
   "version": "3.10.10"
  },
  "orig_nbformat": 4,
  "vscode": {
   "interpreter": {
    "hash": "09134615d3c11d3d66d95b41ba5927bd89680aa8b55941e9aa91f4d36f92235d"
   }
  }
 },
 "nbformat": 4,
 "nbformat_minor": 2
}
