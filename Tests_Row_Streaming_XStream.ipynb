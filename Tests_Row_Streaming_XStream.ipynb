{
  "cells": [
    {
      "cell_type": "markdown",
      "metadata": {
        "id": "b8mCoKvAftfm"
      },
      "source": [
        "# Demo - xStream for row-streaming datasets\n",
        "This is a demo notebook for our row-streaming implementation in Python of [xStream](https://github.com/arielramos97/xStream). It will show you how to run the algorithm on the spam-sms dataset."
      ]
    },
    {
      "attachments": {},
      "cell_type": "markdown",
      "metadata": {
        "id": "mqnxfkYPgpsW"
      },
      "source": [
        "# Set up environment"
      ]
    },
    {
      "cell_type": "code",
      "execution_count": 1,
      "metadata": {
        "id": "QxlyoYok8mjU"
      },
      "outputs": [],
      "source": [
        "from models.XStream_River import xStream\n",
        "import tqdm\n",
        "from sklearn.metrics import average_precision_score, roc_auc_score\n",
        "from sklearn.datasets import load_svmlight_file"
      ]
    },
    {
      "cell_type": "markdown",
      "metadata": {
        "id": "Y2a_-ts9jAIY"
      },
      "source": [
        "# Load the data"
      ]
    },
    {
      "cell_type": "code",
      "execution_count": 3,
      "metadata": {
        "id": "ggsRkdspjAvn"
      },
      "outputs": [],
      "source": [
        "data = load_svmlight_file(\"data/Row-streaming/spam-sms\")\n",
        "X = data[0]\n",
        "y = data[1]\n",
        "X= X.todense()"
      ]
    },
    {
      "cell_type": "markdown",
      "metadata": {
        "id": "5nCuhmsnjalx"
      },
      "source": [
        "# Run the algorithm"
      ]
    },
    {
      "cell_type": "code",
      "execution_count": 5,
      "metadata": {
        "colab": {
          "base_uri": "https://localhost:8080/",
          "height": 101,
          "referenced_widgets": [
            "8dfc7474567d43c0a0ee7d5625d8d2ef",
            "646a61cad14b4a37b08fb16521117e3d",
            "b4f70884cf35487eab0b11d4d6113d73",
            "15bea9d33a884fc8b5197efde2818a8c",
            "e47843ca681040649f03ab10da02f64b",
            "3af2718133554e79bf619ee5acbfc0a3",
            "31136121c7e94e009012a700d1eef140",
            "a4ce45afe4bf4969a73df5dfa39e22fd",
            "3745717f9d1449e1b28a5366ca9eea19",
            "ea1ac458e15a4214bf1706e5c24c488f",
            "74b66b9224cb4a84a273fa7b4f19280c"
          ]
        },
        "id": "5-ufB-7pjct9",
        "outputId": "6ddc1ef9-c028-43ab-c1e6-52e796959475"
      },
      "outputs": [
        {
          "name": "stderr",
          "output_type": "stream",
          "text": [
            "  4%|▎         | 205/5574 [00:10<04:45, 18.78it/s]\n"
          ]
        },
        {
          "ename": "KeyboardInterrupt",
          "evalue": "",
          "output_type": "error",
          "traceback": [
            "\u001b[1;31m---------------------------------------------------------------------------\u001b[0m",
            "\u001b[1;31mKeyboardInterrupt\u001b[0m                         Traceback (most recent call last)",
            "Cell \u001b[1;32mIn[5], line 11\u001b[0m\n\u001b[0;32m      8\u001b[0m all_scores \u001b[39m=\u001b[39m []\n\u001b[0;32m     10\u001b[0m \u001b[39mfor\u001b[39;00m i, sample \u001b[39min\u001b[39;00m \u001b[39menumerate\u001b[39m(tqdm\u001b[39m.\u001b[39mtqdm(X)):\n\u001b[1;32m---> 11\u001b[0m   cf\u001b[39m.\u001b[39;49mlearn_one(sample\u001b[39m.\u001b[39;49mA1)\n\u001b[0;32m     12\u001b[0m   \u001b[39mif\u001b[39;00m i\u001b[39m>\u001b[39m\u001b[39m=\u001b[39mwindow_size:\n\u001b[0;32m     13\u001b[0m     anomalyscore \u001b[39m=\u001b[39m \u001b[39m-\u001b[39mcf\u001b[39m.\u001b[39mpredict_one(sample\u001b[39m.\u001b[39mA1)\n",
            "File \u001b[1;32mc:\\Users\\aramosvela\\Documents\\Data_Science\\Anomaly_Detection_For_River\\models\\XStream_River.py:58\u001b[0m, in \u001b[0;36mxStream.learn_one\u001b[1;34m(self, X, y)\u001b[0m\n\u001b[0;32m     54\u001b[0m \u001b[39m\u001b[39m\u001b[39m\"\"\"Fits the model to next instance.\u001b[39;00m\n\u001b[0;32m     55\u001b[0m \u001b[39m\"\"\"\u001b[39;00m\n\u001b[0;32m     56\u001b[0m \u001b[39mself\u001b[39m\u001b[39m.\u001b[39mstep \u001b[39m+\u001b[39m\u001b[39m=\u001b[39m \u001b[39m1\u001b[39m\n\u001b[1;32m---> 58\u001b[0m X \u001b[39m=\u001b[39m \u001b[39mself\u001b[39;49m\u001b[39m.\u001b[39;49mstreamhash\u001b[39m.\u001b[39;49mfit_transform_partial(X)\n\u001b[0;32m     60\u001b[0m X \u001b[39m=\u001b[39m X\u001b[39m.\u001b[39mreshape(\u001b[39m1\u001b[39m, \u001b[39m-\u001b[39m\u001b[39m1\u001b[39m)\n\u001b[0;32m     61\u001b[0m \u001b[39mself\u001b[39m\u001b[39m.\u001b[39mcur_window\u001b[39m.\u001b[39mappend(X)\n",
            "File \u001b[1;32mc:\\Users\\aramosvela\\Documents\\Data_Science\\Anomaly_Detection_For_River\\models\\XStream_River.py:138\u001b[0m, in \u001b[0;36mStreamhashProjection.fit_transform_partial\u001b[1;34m(self, X)\u001b[0m\n\u001b[0;32m    131\u001b[0m feature_names \u001b[39m=\u001b[39m [\u001b[39mstr\u001b[39m(i) \u001b[39mfor\u001b[39;00m i \u001b[39min\u001b[39;00m \u001b[39mrange\u001b[39m(ndim)]\n\u001b[0;32m    133\u001b[0m R \u001b[39m=\u001b[39m np\u001b[39m.\u001b[39marray([[\u001b[39mself\u001b[39m\u001b[39m.\u001b[39m_hash_string(k, f)\n\u001b[0;32m    134\u001b[0m                \u001b[39mfor\u001b[39;00m f \u001b[39min\u001b[39;00m feature_names]\n\u001b[0;32m    135\u001b[0m                \u001b[39mfor\u001b[39;00m k \u001b[39min\u001b[39;00m \u001b[39mself\u001b[39m\u001b[39m.\u001b[39mkeys])\n\u001b[1;32m--> 138\u001b[0m Y \u001b[39m=\u001b[39m np\u001b[39m.\u001b[39;49mdot(X, R\u001b[39m.\u001b[39;49mT)\u001b[39m.\u001b[39msqueeze()\n\u001b[0;32m    140\u001b[0m \u001b[39mreturn\u001b[39;00m Y\n",
            "File \u001b[1;32m<__array_function__ internals>:180\u001b[0m, in \u001b[0;36mdot\u001b[1;34m(*args, **kwargs)\u001b[0m\n",
            "\u001b[1;31mKeyboardInterrupt\u001b[0m: "
          ]
        }
      ],
      "source": [
        "window_size = int(0.05*len(y))\n",
        "k = 10 #change to 100\n",
        "n_chains = 10 #change to 100\n",
        "depth = 15\n",
        "\n",
        "cf = xStream(num_components=k, n_chains=n_chains, depth=depth, window_size=window_size) \n",
        "\n",
        "all_scores = []\n",
        "\n",
        "for i, sample in enumerate(tqdm.tqdm(X)):\n",
        "  cf.learn_one(sample.A1)\n",
        "  if i>=window_size:\n",
        "    anomalyscore = -cf.predict_one(sample.A1)\n",
        "    all_scores.append(anomalyscore[0])"
      ]
    },
    {
      "cell_type": "code",
      "execution_count": 8,
      "metadata": {
        "id": "koi8CyPR9aAo"
      },
      "outputs": [],
      "source": [
        "y_adjusted = y[window_size:window_size+len(all_scores)]"
      ]
    },
    {
      "cell_type": "code",
      "execution_count": 9,
      "metadata": {
        "id": "phYMqnXQ9bV5"
      },
      "outputs": [],
      "source": [
        "# Computation for Mean Average Precision\n",
        "\n",
        "chunks = [all_scores[x:x+window_size] for x in range(0, len(all_scores), window_size)]\n",
        "y_chunks = [y_adjusted[x:x+window_size] for x in range(0, len(y_adjusted), window_size)]\n",
        "\n",
        "AP_window = []\n",
        "\n",
        "for i in range(len(y_chunks)-1):\n",
        "  score = average_precision_score(y_chunks[i], chunks[i])\n",
        "  AP_window.append(score)"
      ]
    },
    {
      "cell_type": "markdown",
      "metadata": {
        "id": "GMI04LQ-jsGp"
      },
      "source": [
        "# Print results"
      ]
    },
    {
      "cell_type": "code",
      "execution_count": 10,
      "metadata": {
        "colab": {
          "base_uri": "https://localhost:8080/"
        },
        "id": "KCjCZvEa9k46",
        "outputId": "e7378eef-b62b-4264-8f8f-23fd098bb6ef"
      },
      "outputs": [
        {
          "name": "stdout",
          "output_type": "stream",
          "text": [
            "XStream: OAP = 0.3730751125550796 \n",
            "\t MAP = 0.404928224231042 \n",
            "\t AUC = 0.855161384824829\n"
          ]
        }
      ],
      "source": [
        "OAP = average_precision_score(y_adjusted, all_scores) \n",
        "MAP = sum(AP_window)/len(AP_window)\n",
        "AUC = roc_auc_score(y_adjusted, all_scores)\n",
        "\n",
        "print(\"XStream: OAP =\", OAP,\"\\n\\t\",\n",
        "      \"MAP =\", MAP, \"\\n\\t\", \n",
        "      \"AUC =\", AUC)"
      ]
    }
  ],
  "metadata": {
    "accelerator": "GPU",
    "colab": {
      "provenance": []
    },
    "gpuClass": "standard",
    "kernelspec": {
      "display_name": "uni_env",
      "language": "python",
      "name": "python3"
    },
    "language_info": {
      "codemirror_mode": {
        "name": "ipython",
        "version": 3
      },
      "file_extension": ".py",
      "mimetype": "text/x-python",
      "name": "python",
      "nbconvert_exporter": "python",
      "pygments_lexer": "ipython3",
      "version": "3.10.10"
    },
    "vscode": {
      "interpreter": {
        "hash": "09134615d3c11d3d66d95b41ba5927bd89680aa8b55941e9aa91f4d36f92235d"
      }
    },
    "widgets": {
      "application/vnd.jupyter.widget-state+json": {
        "15bea9d33a884fc8b5197efde2818a8c": {
          "model_module": "@jupyter-widgets/controls",
          "model_module_version": "1.5.0",
          "model_name": "HTMLModel",
          "state": {
            "_dom_classes": [],
            "_model_module": "@jupyter-widgets/controls",
            "_model_module_version": "1.5.0",
            "_model_name": "HTMLModel",
            "_view_count": null,
            "_view_module": "@jupyter-widgets/controls",
            "_view_module_version": "1.5.0",
            "_view_name": "HTMLView",
            "description": "",
            "description_tooltip": null,
            "layout": "IPY_MODEL_ea1ac458e15a4214bf1706e5c24c488f",
            "placeholder": "​",
            "style": "IPY_MODEL_74b66b9224cb4a84a273fa7b4f19280c",
            "value": " 5574/5574 [2:57:38&lt;00:00,  1.99s/it]"
          }
        },
        "31136121c7e94e009012a700d1eef140": {
          "model_module": "@jupyter-widgets/controls",
          "model_module_version": "1.5.0",
          "model_name": "DescriptionStyleModel",
          "state": {
            "_model_module": "@jupyter-widgets/controls",
            "_model_module_version": "1.5.0",
            "_model_name": "DescriptionStyleModel",
            "_view_count": null,
            "_view_module": "@jupyter-widgets/base",
            "_view_module_version": "1.2.0",
            "_view_name": "StyleView",
            "description_width": ""
          }
        },
        "3745717f9d1449e1b28a5366ca9eea19": {
          "model_module": "@jupyter-widgets/controls",
          "model_module_version": "1.5.0",
          "model_name": "ProgressStyleModel",
          "state": {
            "_model_module": "@jupyter-widgets/controls",
            "_model_module_version": "1.5.0",
            "_model_name": "ProgressStyleModel",
            "_view_count": null,
            "_view_module": "@jupyter-widgets/base",
            "_view_module_version": "1.2.0",
            "_view_name": "StyleView",
            "bar_color": null,
            "description_width": ""
          }
        },
        "3af2718133554e79bf619ee5acbfc0a3": {
          "model_module": "@jupyter-widgets/base",
          "model_module_version": "1.2.0",
          "model_name": "LayoutModel",
          "state": {
            "_model_module": "@jupyter-widgets/base",
            "_model_module_version": "1.2.0",
            "_model_name": "LayoutModel",
            "_view_count": null,
            "_view_module": "@jupyter-widgets/base",
            "_view_module_version": "1.2.0",
            "_view_name": "LayoutView",
            "align_content": null,
            "align_items": null,
            "align_self": null,
            "border": null,
            "bottom": null,
            "display": null,
            "flex": null,
            "flex_flow": null,
            "grid_area": null,
            "grid_auto_columns": null,
            "grid_auto_flow": null,
            "grid_auto_rows": null,
            "grid_column": null,
            "grid_gap": null,
            "grid_row": null,
            "grid_template_areas": null,
            "grid_template_columns": null,
            "grid_template_rows": null,
            "height": null,
            "justify_content": null,
            "justify_items": null,
            "left": null,
            "margin": null,
            "max_height": null,
            "max_width": null,
            "min_height": null,
            "min_width": null,
            "object_fit": null,
            "object_position": null,
            "order": null,
            "overflow": null,
            "overflow_x": null,
            "overflow_y": null,
            "padding": null,
            "right": null,
            "top": null,
            "visibility": null,
            "width": null
          }
        },
        "646a61cad14b4a37b08fb16521117e3d": {
          "model_module": "@jupyter-widgets/controls",
          "model_module_version": "1.5.0",
          "model_name": "HTMLModel",
          "state": {
            "_dom_classes": [],
            "_model_module": "@jupyter-widgets/controls",
            "_model_module_version": "1.5.0",
            "_model_name": "HTMLModel",
            "_view_count": null,
            "_view_module": "@jupyter-widgets/controls",
            "_view_module_version": "1.5.0",
            "_view_name": "HTMLView",
            "description": "",
            "description_tooltip": null,
            "layout": "IPY_MODEL_3af2718133554e79bf619ee5acbfc0a3",
            "placeholder": "​",
            "style": "IPY_MODEL_31136121c7e94e009012a700d1eef140",
            "value": "100%"
          }
        },
        "74b66b9224cb4a84a273fa7b4f19280c": {
          "model_module": "@jupyter-widgets/controls",
          "model_module_version": "1.5.0",
          "model_name": "DescriptionStyleModel",
          "state": {
            "_model_module": "@jupyter-widgets/controls",
            "_model_module_version": "1.5.0",
            "_model_name": "DescriptionStyleModel",
            "_view_count": null,
            "_view_module": "@jupyter-widgets/base",
            "_view_module_version": "1.2.0",
            "_view_name": "StyleView",
            "description_width": ""
          }
        },
        "8dfc7474567d43c0a0ee7d5625d8d2ef": {
          "model_module": "@jupyter-widgets/controls",
          "model_module_version": "1.5.0",
          "model_name": "HBoxModel",
          "state": {
            "_dom_classes": [],
            "_model_module": "@jupyter-widgets/controls",
            "_model_module_version": "1.5.0",
            "_model_name": "HBoxModel",
            "_view_count": null,
            "_view_module": "@jupyter-widgets/controls",
            "_view_module_version": "1.5.0",
            "_view_name": "HBoxView",
            "box_style": "",
            "children": [
              "IPY_MODEL_646a61cad14b4a37b08fb16521117e3d",
              "IPY_MODEL_b4f70884cf35487eab0b11d4d6113d73",
              "IPY_MODEL_15bea9d33a884fc8b5197efde2818a8c"
            ],
            "layout": "IPY_MODEL_e47843ca681040649f03ab10da02f64b"
          }
        },
        "a4ce45afe4bf4969a73df5dfa39e22fd": {
          "model_module": "@jupyter-widgets/base",
          "model_module_version": "1.2.0",
          "model_name": "LayoutModel",
          "state": {
            "_model_module": "@jupyter-widgets/base",
            "_model_module_version": "1.2.0",
            "_model_name": "LayoutModel",
            "_view_count": null,
            "_view_module": "@jupyter-widgets/base",
            "_view_module_version": "1.2.0",
            "_view_name": "LayoutView",
            "align_content": null,
            "align_items": null,
            "align_self": null,
            "border": null,
            "bottom": null,
            "display": null,
            "flex": null,
            "flex_flow": null,
            "grid_area": null,
            "grid_auto_columns": null,
            "grid_auto_flow": null,
            "grid_auto_rows": null,
            "grid_column": null,
            "grid_gap": null,
            "grid_row": null,
            "grid_template_areas": null,
            "grid_template_columns": null,
            "grid_template_rows": null,
            "height": null,
            "justify_content": null,
            "justify_items": null,
            "left": null,
            "margin": null,
            "max_height": null,
            "max_width": null,
            "min_height": null,
            "min_width": null,
            "object_fit": null,
            "object_position": null,
            "order": null,
            "overflow": null,
            "overflow_x": null,
            "overflow_y": null,
            "padding": null,
            "right": null,
            "top": null,
            "visibility": null,
            "width": null
          }
        },
        "b4f70884cf35487eab0b11d4d6113d73": {
          "model_module": "@jupyter-widgets/controls",
          "model_module_version": "1.5.0",
          "model_name": "FloatProgressModel",
          "state": {
            "_dom_classes": [],
            "_model_module": "@jupyter-widgets/controls",
            "_model_module_version": "1.5.0",
            "_model_name": "FloatProgressModel",
            "_view_count": null,
            "_view_module": "@jupyter-widgets/controls",
            "_view_module_version": "1.5.0",
            "_view_name": "ProgressView",
            "bar_style": "success",
            "description": "",
            "description_tooltip": null,
            "layout": "IPY_MODEL_a4ce45afe4bf4969a73df5dfa39e22fd",
            "max": 5574,
            "min": 0,
            "orientation": "horizontal",
            "style": "IPY_MODEL_3745717f9d1449e1b28a5366ca9eea19",
            "value": 5574
          }
        },
        "e47843ca681040649f03ab10da02f64b": {
          "model_module": "@jupyter-widgets/base",
          "model_module_version": "1.2.0",
          "model_name": "LayoutModel",
          "state": {
            "_model_module": "@jupyter-widgets/base",
            "_model_module_version": "1.2.0",
            "_model_name": "LayoutModel",
            "_view_count": null,
            "_view_module": "@jupyter-widgets/base",
            "_view_module_version": "1.2.0",
            "_view_name": "LayoutView",
            "align_content": null,
            "align_items": null,
            "align_self": null,
            "border": null,
            "bottom": null,
            "display": null,
            "flex": null,
            "flex_flow": null,
            "grid_area": null,
            "grid_auto_columns": null,
            "grid_auto_flow": null,
            "grid_auto_rows": null,
            "grid_column": null,
            "grid_gap": null,
            "grid_row": null,
            "grid_template_areas": null,
            "grid_template_columns": null,
            "grid_template_rows": null,
            "height": null,
            "justify_content": null,
            "justify_items": null,
            "left": null,
            "margin": null,
            "max_height": null,
            "max_width": null,
            "min_height": null,
            "min_width": null,
            "object_fit": null,
            "object_position": null,
            "order": null,
            "overflow": null,
            "overflow_x": null,
            "overflow_y": null,
            "padding": null,
            "right": null,
            "top": null,
            "visibility": null,
            "width": null
          }
        },
        "ea1ac458e15a4214bf1706e5c24c488f": {
          "model_module": "@jupyter-widgets/base",
          "model_module_version": "1.2.0",
          "model_name": "LayoutModel",
          "state": {
            "_model_module": "@jupyter-widgets/base",
            "_model_module_version": "1.2.0",
            "_model_name": "LayoutModel",
            "_view_count": null,
            "_view_module": "@jupyter-widgets/base",
            "_view_module_version": "1.2.0",
            "_view_name": "LayoutView",
            "align_content": null,
            "align_items": null,
            "align_self": null,
            "border": null,
            "bottom": null,
            "display": null,
            "flex": null,
            "flex_flow": null,
            "grid_area": null,
            "grid_auto_columns": null,
            "grid_auto_flow": null,
            "grid_auto_rows": null,
            "grid_column": null,
            "grid_gap": null,
            "grid_row": null,
            "grid_template_areas": null,
            "grid_template_columns": null,
            "grid_template_rows": null,
            "height": null,
            "justify_content": null,
            "justify_items": null,
            "left": null,
            "margin": null,
            "max_height": null,
            "max_width": null,
            "min_height": null,
            "min_width": null,
            "object_fit": null,
            "object_position": null,
            "order": null,
            "overflow": null,
            "overflow_x": null,
            "overflow_y": null,
            "padding": null,
            "right": null,
            "top": null,
            "visibility": null,
            "width": null
          }
        }
      }
    }
  },
  "nbformat": 4,
  "nbformat_minor": 0
}
