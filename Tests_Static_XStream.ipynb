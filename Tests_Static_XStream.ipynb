{
  "cells": [
    {
      "cell_type": "code",
      "execution_count": 1,
      "metadata": {
        "id": "gHvRuBkcLExO"
      },
      "outputs": [],
      "source": [
        "import tqdm\n",
        "import gzip\n",
        "import numpy as np\n",
        "from models.XStream_River import xStream\n",
        "from sklearn.metrics import average_precision_score, roc_auc_score"
      ]
    },
    {
      "cell_type": "code",
      "execution_count": 2,
      "metadata": {
        "id": "9auas4qET_Hz"
      },
      "outputs": [],
      "source": [
        "# data = gzip.open(\"data/Static/cancer.gz\", \"r\")\n",
        "# data = gzip.open(\"data/Static/ionosphere.gz\", \"r\")\n",
        "# data = gzip.open(\"data/Static/telescope.gz\", \"r\")\n",
        "data = gzip.open(\"data/Static/indians.gz\", \"r\")\n",
        "# data = gzip.open(\"data/Static/gisette.gz\", \"r\")\n",
        "# data = gzip.open(\"data/Static/isolet.gz\", \"r\")\n",
        "# data = gzip.open(\"data/Static/letter.gz\", \"r\")\n",
        "# data = gzip.open(\"data/Static/madelon.gz\", \"r\")"
      ]
    },
    {
      "cell_type": "code",
      "execution_count": 3,
      "metadata": {
        "id": "TqJ3Ry8rbr0p"
      },
      "outputs": [],
      "source": [
        "X, y = [], []\n",
        "\n",
        "for i in data:\n",
        "  i = (i.decode('utf-8')).split(\",\")\n",
        "  i = [float(x) for x in i]\n",
        "  X.append(np.array(i[:-1]))\n",
        "  y.append(i[-1])"
      ]
    },
    {
      "cell_type": "code",
      "execution_count": 4,
      "metadata": {
        "colab": {
          "base_uri": "https://localhost:8080/",
          "height": 49,
          "referenced_widgets": [
            "ccfce05d7ee54a4588051e4ba3e99fe7",
            "9d95f50c4c4245f2b83cc31bb8a0b9dd",
            "221d59c440804f73800c167c625ba913",
            "8393897b54ee49c693cd41e4548d6c93",
            "20c0f07e4a1e4abcaeb3dfc8f81f345d",
            "d6515719205441abae6bd8fcd3b67c50",
            "9fe66b9ee4b0407ca39277c01f230ec5",
            "5d871270e66d47afb98477b9d142f6d9",
            "cf568135085e41a49d3f84b616a02e7c",
            "b7e722e34bcb4f99a7ed5c7c61768177",
            "2817d0350a49476a804e6ea0ccc2c812"
          ]
        },
        "id": "SbvqgSb9LejV",
        "outputId": "a6b04feb-856b-43f1-aded-e99beef9fa57"
      },
      "outputs": [
        {
          "name": "stderr",
          "output_type": "stream",
          "text": [
            "100%|██████████| 538/538 [00:21<00:00, 25.25it/s]\n"
          ]
        }
      ],
      "source": [
        "window_size = int(0.25*len(y))\n",
        "k = 100 \n",
        "n_chains = 100 \n",
        "depth = 15\n",
        "\n",
        "cf = xStream(num_components=k, n_chains=n_chains, depth=depth, window_size=window_size) \n",
        "\n",
        "all_scores = []\n",
        "\n",
        "for i, x in enumerate(tqdm.tqdm(X)):\n",
        "  cf.learn_one(x)\n",
        "  if i>=window_size:\n",
        "    anomalyscore = -cf.predict_one(x)\n",
        "    all_scores.append(anomalyscore[0])"
      ]
    },
    {
      "cell_type": "code",
      "execution_count": 5,
      "metadata": {
        "id": "SkGlLx-u708d"
      },
      "outputs": [],
      "source": [
        "y_adjusted = y[window_size:window_size+len(all_scores)]"
      ]
    },
    {
      "cell_type": "code",
      "execution_count": 6,
      "metadata": {
        "id": "7BMWhOUv79i2"
      },
      "outputs": [
        {
          "name": "stderr",
          "output_type": "stream",
          "text": [
            "c:\\Users\\aramosvela\\Documents\\Data_Science\\uni_env\\lib\\site-packages\\sklearn\\metrics\\_ranking.py:891: UserWarning: No positive class found in y_true, recall is set to one for all thresholds.\n",
            "  warnings.warn(\n",
            "c:\\Users\\aramosvela\\Documents\\Data_Science\\uni_env\\lib\\site-packages\\sklearn\\metrics\\_ranking.py:891: UserWarning: No positive class found in y_true, recall is set to one for all thresholds.\n",
            "  warnings.warn(\n"
          ]
        }
      ],
      "source": [
        "# Computation for Mean Average Precision\n",
        "\n",
        "chunks = [all_scores[x:x+window_size] for x in range(0, len(all_scores), window_size)]\n",
        "y_chunks = [y_adjusted[x:x+window_size] for x in range(0, len(y_adjusted), window_size)]\n",
        "\n",
        "AP_window = []\n",
        "\n",
        "for i in range(len(y_chunks)-1):\n",
        "  score = average_precision_score(y_chunks[i], chunks[i])\n",
        "  AP_window.append(score)\n"
      ]
    },
    {
      "cell_type": "code",
      "execution_count": 7,
      "metadata": {
        "colab": {
          "base_uri": "https://localhost:8080/"
        },
        "id": "DuV3GGyoIhHL",
        "outputId": "bd89fa19-48bf-4366-b776-7a5b90d23974"
      },
      "outputs": [
        {
          "name": "stdout",
          "output_type": "stream",
          "text": [
            "XStream: OAP = 0.09013973000131735 \n",
            "\t  MAP = 0.18008014577104645 \n",
            "\t  AUC = 0.49928098935864257\n"
          ]
        }
      ],
      "source": [
        "OAP = average_precision_score(y_adjusted, all_scores) \n",
        "MAP = sum(AP_window)/len(AP_window)\n",
        "AUC = roc_auc_score(y_adjusted, all_scores)\n",
        "\n",
        "print(\"XStream: OAP =\", OAP,\"\\n\\t \",\n",
        "      \"MAP =\", MAP, \"\\n\\t \", \n",
        "      \"AUC =\", AUC)"
      ]
    }
  ],
  "metadata": {
    "colab": {
      "provenance": []
    },
    "kernelspec": {
      "display_name": "uni_env",
      "language": "python",
      "name": "python3"
    },
    "language_info": {
      "codemirror_mode": {
        "name": "ipython",
        "version": 3
      },
      "file_extension": ".py",
      "mimetype": "text/x-python",
      "name": "python",
      "nbconvert_exporter": "python",
      "pygments_lexer": "ipython3",
      "version": "3.10.10"
    },
    "vscode": {
      "interpreter": {
        "hash": "09134615d3c11d3d66d95b41ba5927bd89680aa8b55941e9aa91f4d36f92235d"
      }
    },
    "widgets": {
      "application/vnd.jupyter.widget-state+json": {
        "20c0f07e4a1e4abcaeb3dfc8f81f345d": {
          "model_module": "@jupyter-widgets/base",
          "model_module_version": "1.2.0",
          "model_name": "LayoutModel",
          "state": {
            "_model_module": "@jupyter-widgets/base",
            "_model_module_version": "1.2.0",
            "_model_name": "LayoutModel",
            "_view_count": null,
            "_view_module": "@jupyter-widgets/base",
            "_view_module_version": "1.2.0",
            "_view_name": "LayoutView",
            "align_content": null,
            "align_items": null,
            "align_self": null,
            "border": null,
            "bottom": null,
            "display": null,
            "flex": null,
            "flex_flow": null,
            "grid_area": null,
            "grid_auto_columns": null,
            "grid_auto_flow": null,
            "grid_auto_rows": null,
            "grid_column": null,
            "grid_gap": null,
            "grid_row": null,
            "grid_template_areas": null,
            "grid_template_columns": null,
            "grid_template_rows": null,
            "height": null,
            "justify_content": null,
            "justify_items": null,
            "left": null,
            "margin": null,
            "max_height": null,
            "max_width": null,
            "min_height": null,
            "min_width": null,
            "object_fit": null,
            "object_position": null,
            "order": null,
            "overflow": null,
            "overflow_x": null,
            "overflow_y": null,
            "padding": null,
            "right": null,
            "top": null,
            "visibility": null,
            "width": null
          }
        },
        "221d59c440804f73800c167c625ba913": {
          "model_module": "@jupyter-widgets/controls",
          "model_module_version": "1.5.0",
          "model_name": "FloatProgressModel",
          "state": {
            "_dom_classes": [],
            "_model_module": "@jupyter-widgets/controls",
            "_model_module_version": "1.5.0",
            "_model_name": "FloatProgressModel",
            "_view_count": null,
            "_view_module": "@jupyter-widgets/controls",
            "_view_module_version": "1.5.0",
            "_view_name": "ProgressView",
            "bar_style": "",
            "description": "",
            "description_tooltip": null,
            "layout": "IPY_MODEL_5d871270e66d47afb98477b9d142f6d9",
            "max": 13283,
            "min": 0,
            "orientation": "horizontal",
            "style": "IPY_MODEL_cf568135085e41a49d3f84b616a02e7c",
            "value": 2171
          }
        },
        "2817d0350a49476a804e6ea0ccc2c812": {
          "model_module": "@jupyter-widgets/controls",
          "model_module_version": "1.5.0",
          "model_name": "DescriptionStyleModel",
          "state": {
            "_model_module": "@jupyter-widgets/controls",
            "_model_module_version": "1.5.0",
            "_model_name": "DescriptionStyleModel",
            "_view_count": null,
            "_view_module": "@jupyter-widgets/base",
            "_view_module_version": "1.2.0",
            "_view_name": "StyleView",
            "description_width": ""
          }
        },
        "5d871270e66d47afb98477b9d142f6d9": {
          "model_module": "@jupyter-widgets/base",
          "model_module_version": "1.2.0",
          "model_name": "LayoutModel",
          "state": {
            "_model_module": "@jupyter-widgets/base",
            "_model_module_version": "1.2.0",
            "_model_name": "LayoutModel",
            "_view_count": null,
            "_view_module": "@jupyter-widgets/base",
            "_view_module_version": "1.2.0",
            "_view_name": "LayoutView",
            "align_content": null,
            "align_items": null,
            "align_self": null,
            "border": null,
            "bottom": null,
            "display": null,
            "flex": null,
            "flex_flow": null,
            "grid_area": null,
            "grid_auto_columns": null,
            "grid_auto_flow": null,
            "grid_auto_rows": null,
            "grid_column": null,
            "grid_gap": null,
            "grid_row": null,
            "grid_template_areas": null,
            "grid_template_columns": null,
            "grid_template_rows": null,
            "height": null,
            "justify_content": null,
            "justify_items": null,
            "left": null,
            "margin": null,
            "max_height": null,
            "max_width": null,
            "min_height": null,
            "min_width": null,
            "object_fit": null,
            "object_position": null,
            "order": null,
            "overflow": null,
            "overflow_x": null,
            "overflow_y": null,
            "padding": null,
            "right": null,
            "top": null,
            "visibility": null,
            "width": null
          }
        },
        "8393897b54ee49c693cd41e4548d6c93": {
          "model_module": "@jupyter-widgets/controls",
          "model_module_version": "1.5.0",
          "model_name": "HTMLModel",
          "state": {
            "_dom_classes": [],
            "_model_module": "@jupyter-widgets/controls",
            "_model_module_version": "1.5.0",
            "_model_name": "HTMLModel",
            "_view_count": null,
            "_view_module": "@jupyter-widgets/controls",
            "_view_module_version": "1.5.0",
            "_view_name": "HTMLView",
            "description": "",
            "description_tooltip": null,
            "layout": "IPY_MODEL_b7e722e34bcb4f99a7ed5c7c61768177",
            "placeholder": "​",
            "style": "IPY_MODEL_2817d0350a49476a804e6ea0ccc2c812",
            "value": " 2171/13283 [02:02&lt;08:28, 21.86it/s]"
          }
        },
        "9d95f50c4c4245f2b83cc31bb8a0b9dd": {
          "model_module": "@jupyter-widgets/controls",
          "model_module_version": "1.5.0",
          "model_name": "HTMLModel",
          "state": {
            "_dom_classes": [],
            "_model_module": "@jupyter-widgets/controls",
            "_model_module_version": "1.5.0",
            "_model_name": "HTMLModel",
            "_view_count": null,
            "_view_module": "@jupyter-widgets/controls",
            "_view_module_version": "1.5.0",
            "_view_name": "HTMLView",
            "description": "",
            "description_tooltip": null,
            "layout": "IPY_MODEL_d6515719205441abae6bd8fcd3b67c50",
            "placeholder": "​",
            "style": "IPY_MODEL_9fe66b9ee4b0407ca39277c01f230ec5",
            "value": " 16%"
          }
        },
        "9fe66b9ee4b0407ca39277c01f230ec5": {
          "model_module": "@jupyter-widgets/controls",
          "model_module_version": "1.5.0",
          "model_name": "DescriptionStyleModel",
          "state": {
            "_model_module": "@jupyter-widgets/controls",
            "_model_module_version": "1.5.0",
            "_model_name": "DescriptionStyleModel",
            "_view_count": null,
            "_view_module": "@jupyter-widgets/base",
            "_view_module_version": "1.2.0",
            "_view_name": "StyleView",
            "description_width": ""
          }
        },
        "b7e722e34bcb4f99a7ed5c7c61768177": {
          "model_module": "@jupyter-widgets/base",
          "model_module_version": "1.2.0",
          "model_name": "LayoutModel",
          "state": {
            "_model_module": "@jupyter-widgets/base",
            "_model_module_version": "1.2.0",
            "_model_name": "LayoutModel",
            "_view_count": null,
            "_view_module": "@jupyter-widgets/base",
            "_view_module_version": "1.2.0",
            "_view_name": "LayoutView",
            "align_content": null,
            "align_items": null,
            "align_self": null,
            "border": null,
            "bottom": null,
            "display": null,
            "flex": null,
            "flex_flow": null,
            "grid_area": null,
            "grid_auto_columns": null,
            "grid_auto_flow": null,
            "grid_auto_rows": null,
            "grid_column": null,
            "grid_gap": null,
            "grid_row": null,
            "grid_template_areas": null,
            "grid_template_columns": null,
            "grid_template_rows": null,
            "height": null,
            "justify_content": null,
            "justify_items": null,
            "left": null,
            "margin": null,
            "max_height": null,
            "max_width": null,
            "min_height": null,
            "min_width": null,
            "object_fit": null,
            "object_position": null,
            "order": null,
            "overflow": null,
            "overflow_x": null,
            "overflow_y": null,
            "padding": null,
            "right": null,
            "top": null,
            "visibility": null,
            "width": null
          }
        },
        "ccfce05d7ee54a4588051e4ba3e99fe7": {
          "model_module": "@jupyter-widgets/controls",
          "model_module_version": "1.5.0",
          "model_name": "HBoxModel",
          "state": {
            "_dom_classes": [],
            "_model_module": "@jupyter-widgets/controls",
            "_model_module_version": "1.5.0",
            "_model_name": "HBoxModel",
            "_view_count": null,
            "_view_module": "@jupyter-widgets/controls",
            "_view_module_version": "1.5.0",
            "_view_name": "HBoxView",
            "box_style": "",
            "children": [
              "IPY_MODEL_9d95f50c4c4245f2b83cc31bb8a0b9dd",
              "IPY_MODEL_221d59c440804f73800c167c625ba913",
              "IPY_MODEL_8393897b54ee49c693cd41e4548d6c93"
            ],
            "layout": "IPY_MODEL_20c0f07e4a1e4abcaeb3dfc8f81f345d"
          }
        },
        "cf568135085e41a49d3f84b616a02e7c": {
          "model_module": "@jupyter-widgets/controls",
          "model_module_version": "1.5.0",
          "model_name": "ProgressStyleModel",
          "state": {
            "_model_module": "@jupyter-widgets/controls",
            "_model_module_version": "1.5.0",
            "_model_name": "ProgressStyleModel",
            "_view_count": null,
            "_view_module": "@jupyter-widgets/base",
            "_view_module_version": "1.2.0",
            "_view_name": "StyleView",
            "bar_color": null,
            "description_width": ""
          }
        },
        "d6515719205441abae6bd8fcd3b67c50": {
          "model_module": "@jupyter-widgets/base",
          "model_module_version": "1.2.0",
          "model_name": "LayoutModel",
          "state": {
            "_model_module": "@jupyter-widgets/base",
            "_model_module_version": "1.2.0",
            "_model_name": "LayoutModel",
            "_view_count": null,
            "_view_module": "@jupyter-widgets/base",
            "_view_module_version": "1.2.0",
            "_view_name": "LayoutView",
            "align_content": null,
            "align_items": null,
            "align_self": null,
            "border": null,
            "bottom": null,
            "display": null,
            "flex": null,
            "flex_flow": null,
            "grid_area": null,
            "grid_auto_columns": null,
            "grid_auto_flow": null,
            "grid_auto_rows": null,
            "grid_column": null,
            "grid_gap": null,
            "grid_row": null,
            "grid_template_areas": null,
            "grid_template_columns": null,
            "grid_template_rows": null,
            "height": null,
            "justify_content": null,
            "justify_items": null,
            "left": null,
            "margin": null,
            "max_height": null,
            "max_width": null,
            "min_height": null,
            "min_width": null,
            "object_fit": null,
            "object_position": null,
            "order": null,
            "overflow": null,
            "overflow_x": null,
            "overflow_y": null,
            "padding": null,
            "right": null,
            "top": null,
            "visibility": null,
            "width": null
          }
        }
      }
    }
  },
  "nbformat": 4,
  "nbformat_minor": 0
}
